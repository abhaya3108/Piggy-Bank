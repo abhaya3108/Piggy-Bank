{
 "cells": [
  {
   "cell_type": "code",
   "execution_count": 1,
   "metadata": {},
   "outputs": [
    {
     "name": "stdout",
     "output_type": "stream",
     "text": [
      " \n",
      "--------------------Start-------------------\n",
      " \n",
      "Start or End : Start\n",
      "Add, Withdraw or Check : Check\n",
      " \n",
      "Your current balance is 1000 rupees\n",
      "None\n",
      " \n",
      "Start or End : Start\n",
      "Add, Withdraw or Check : Add\n",
      " \n",
      "Add amount : 23423.432\n",
      " \n",
      "After adding,  your updated balance is 24423.432 rupees\n",
      "None\n",
      " \n",
      "Start or End : Start\n",
      "Add, Withdraw or Check : Withdraw\n",
      " \n",
      "Withdraw amount : 4344.323\n",
      " \n",
      "After withdrawing, balance amount is 20079.109 rupees\n",
      "None\n",
      " \n",
      "Start or End : Start\n",
      "Add, Withdraw or Check : Check\n",
      " \n",
      "Your current balance is 20079.109 rupees\n",
      "None\n",
      " \n",
      "Start or End : End\n",
      " \n",
      "------------Program Ended-----------\n",
      " \n"
     ]
    }
   ],
   "source": [
    "import os\n",
    "os.chdir(r'C:\\Users\\panda4\\.spyder-py3')\n",
    "os.getcwd()\n",
    "import piggy_bank"
   ]
  }
 ],
 "metadata": {
  "kernelspec": {
   "display_name": "Python 3",
   "language": "python",
   "name": "python3"
  },
  "language_info": {
   "codemirror_mode": {
    "name": "ipython",
    "version": 3
   },
   "file_extension": ".py",
   "mimetype": "text/x-python",
   "name": "python",
   "nbconvert_exporter": "python",
   "pygments_lexer": "ipython3",
   "version": "3.7.1"
  }
 },
 "nbformat": 4,
 "nbformat_minor": 2
}
